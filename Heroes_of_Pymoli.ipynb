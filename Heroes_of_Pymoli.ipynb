{
 "cells": [
  {
   "cell_type": "markdown",
   "metadata": {},
   "source": [
    "### Note\n",
    "* Instructions have been included for each segment. You do not have to follow them exactly, but they are included to help you think through the steps."
   ]
  },
  {
   "cell_type": "code",
   "execution_count": 2,
   "metadata": {},
   "outputs": [],
   "source": [
    "# Dependencies\n",
    "import pandas as pd\n",
    "\n",
    "# File to Load\n",
    "file_to_load = \"Resources/purchase_data.csv\"\n",
    "\n",
    "# Read Purchasing File and store into Pandas data frame\n",
    "purchase_data = pd.read_csv(file_to_load)"
   ]
  },
  {
   "cell_type": "markdown",
   "metadata": {},
   "source": [
    "## Player Count"
   ]
  },
  {
   "cell_type": "markdown",
   "metadata": {},
   "source": [
    "* Display the total number of players\n"
   ]
  },
  {
   "cell_type": "code",
   "execution_count": 3,
   "metadata": {},
   "outputs": [
    {
     "data": {
      "text/html": [
       "<div>\n",
       "<style scoped>\n",
       "    .dataframe tbody tr th:only-of-type {\n",
       "        vertical-align: middle;\n",
       "    }\n",
       "\n",
       "    .dataframe tbody tr th {\n",
       "        vertical-align: top;\n",
       "    }\n",
       "\n",
       "    .dataframe thead th {\n",
       "        text-align: right;\n",
       "    }\n",
       "</style>\n",
       "<table border=\"1\" class=\"dataframe\">\n",
       "  <thead>\n",
       "    <tr style=\"text-align: right;\">\n",
       "      <th></th>\n",
       "      <th>Total Players</th>\n",
       "    </tr>\n",
       "  </thead>\n",
       "  <tbody>\n",
       "    <tr>\n",
       "      <th>0</th>\n",
       "      <td>576</td>\n",
       "    </tr>\n",
       "  </tbody>\n",
       "</table>\n",
       "</div>"
      ],
      "text/plain": [
       "   Total Players\n",
       "0            576"
      ]
     },
     "execution_count": 3,
     "metadata": {},
     "output_type": "execute_result"
    }
   ],
   "source": [
    "# Length of the list of screen names \"SN\" for total users\n",
    "total_players = len(purchase_data[\"SN\"].value_counts())\n",
    "\n",
    "# Total Players Dataframe\n",
    "player_count = pd.DataFrame({\"Total Players\": [total_players]})\n",
    "player_count"
   ]
  },
  {
   "cell_type": "markdown",
   "metadata": {},
   "source": [
    "## Purchasing Analysis (Total)"
   ]
  },
  {
   "cell_type": "markdown",
   "metadata": {},
   "source": [
    "* Run basic calculations to obtain number of unique items, average price, etc.\n",
    "\n",
    "\n",
    "* Create a summary data frame to hold the results\n",
    "\n",
    "\n",
    "* Optional: give the displayed data cleaner formatting\n",
    "\n",
    "\n",
    "* Display the summary data frame\n"
   ]
  },
  {
   "cell_type": "code",
   "execution_count": 4,
   "metadata": {
    "scrolled": true
   },
   "outputs": [
    {
     "data": {
      "text/html": [
       "<style type=\"text/css\">\n",
       "</style>\n",
       "<table id=\"T_418bb_\">\n",
       "  <thead>\n",
       "    <tr>\n",
       "      <th class=\"blank level0\" >&nbsp;</th>\n",
       "      <th class=\"col_heading level0 col0\" >Number of Unique Items</th>\n",
       "      <th class=\"col_heading level0 col1\" >Average Price</th>\n",
       "      <th class=\"col_heading level0 col2\" >Number of Purchases</th>\n",
       "      <th class=\"col_heading level0 col3\" >Total Revenue</th>\n",
       "    </tr>\n",
       "  </thead>\n",
       "  <tbody>\n",
       "    <tr>\n",
       "      <th id=\"T_418bb_level0_row0\" class=\"row_heading level0 row0\" >0</th>\n",
       "      <td id=\"T_418bb_row0_col0\" class=\"data row0 col0\" >179</td>\n",
       "      <td id=\"T_418bb_row0_col1\" class=\"data row0 col1\" >$3.05</td>\n",
       "      <td id=\"T_418bb_row0_col2\" class=\"data row0 col2\" >780</td>\n",
       "      <td id=\"T_418bb_row0_col3\" class=\"data row0 col3\" >$2,379.77</td>\n",
       "    </tr>\n",
       "  </tbody>\n",
       "</table>\n"
      ],
      "text/plain": [
       "<pandas.io.formats.style.Styler at 0x19b1cda51f0>"
      ]
     },
     "execution_count": 4,
     "metadata": {},
     "output_type": "execute_result"
    }
   ],
   "source": [
    "# Unique Items, Avg Price, Number of Purchases, Revenue\n",
    "number_of_unique_items = len((purchase_data[\"Item ID\"]).unique())\n",
    "average_price = (purchase_data[\"Price\"]).mean()\n",
    "number_of_purchases = (purchase_data[\"Purchase ID\"]).count()\n",
    "total_revenue = (purchase_data[\"Price\"]).sum()\n",
    "\n",
    "# DataFrame with values\n",
    "summary_df = pd.DataFrame({\"Number of Unique Items\":[number_of_unique_items],\n",
    "                           \"Average Price\":[average_price], \n",
    "                           \"Number of Purchases\": [number_of_purchases], \n",
    "                           \"Total Revenue\": [total_revenue]})\n",
    "# formatting\n",
    "summary_df.style.format({'Average Price':\"${:,.2f}\",\n",
    "                         'Total Revenue': '${:,.2f}'})"
   ]
  },
  {
   "cell_type": "markdown",
   "metadata": {},
   "source": [
    "## Gender Demographics"
   ]
  },
  {
   "cell_type": "markdown",
   "metadata": {},
   "source": [
    "* Percentage and Count of Male Players\n",
    "\n",
    "\n",
    "* Percentage and Count of Female Players\n",
    "\n",
    "\n",
    "* Percentage and Count of Other / Non-Disclosed\n",
    "\n",
    "\n"
   ]
  },
  {
   "cell_type": "code",
   "execution_count": 6,
   "metadata": {},
   "outputs": [
    {
     "data": {
      "text/html": [
       "<style type=\"text/css\">\n",
       "</style>\n",
       "<table id=\"T_00ce7_\">\n",
       "  <thead>\n",
       "    <tr>\n",
       "      <th class=\"blank level0\" >&nbsp;</th>\n",
       "      <th class=\"col_heading level0 col0\" >Percentage of Players</th>\n",
       "      <th class=\"col_heading level0 col1\" >Total Count</th>\n",
       "    </tr>\n",
       "  </thead>\n",
       "  <tbody>\n",
       "    <tr>\n",
       "      <th id=\"T_00ce7_level0_row0\" class=\"row_heading level0 row0\" >Male</th>\n",
       "      <td id=\"T_00ce7_row0_col0\" class=\"data row0 col0\" >84.03</td>\n",
       "      <td id=\"T_00ce7_row0_col1\" class=\"data row0 col1\" >484</td>\n",
       "    </tr>\n",
       "    <tr>\n",
       "      <th id=\"T_00ce7_level0_row1\" class=\"row_heading level0 row1\" >Female</th>\n",
       "      <td id=\"T_00ce7_row1_col0\" class=\"data row1 col0\" >14.06</td>\n",
       "      <td id=\"T_00ce7_row1_col1\" class=\"data row1 col1\" >81</td>\n",
       "    </tr>\n",
       "    <tr>\n",
       "      <th id=\"T_00ce7_level0_row2\" class=\"row_heading level0 row2\" >Other / Non-Disclosed</th>\n",
       "      <td id=\"T_00ce7_row2_col0\" class=\"data row2 col0\" >1.91</td>\n",
       "      <td id=\"T_00ce7_row2_col1\" class=\"data row2 col1\" >11</td>\n",
       "    </tr>\n",
       "  </tbody>\n",
       "</table>\n"
      ],
      "text/plain": [
       "<pandas.io.formats.style.Styler at 0x19b20f48160>"
      ]
     },
     "execution_count": 6,
     "metadata": {},
     "output_type": "execute_result"
    }
   ],
   "source": [
    "# Purchase Data by Gender\n",
    "gender_data = purchase_data.groupby(\"Gender\")\n",
    "\n",
    "# screen names by gender\n",
    "total_count_gender = gender_data.nunique()[\"SN\"]\n",
    "\n",
    "# count by gender / total players\n",
    "percentage_of_players = total_count_gender / total_players * 100\n",
    "\n",
    "# create DataFrame\n",
    "gender_demos = pd.DataFrame({\"Percentage of Players\": percentage_of_players, \"Total Count\": total_count_gender})\n",
    "\n",
    "# format DataFrame\n",
    "gender_demos.index.name = None\n",
    "\n",
    "# sort values by total count, round to 2 decimal places\n",
    "gender_demos.sort_values([\"Total Count\"], ascending = False).style.format({\"Percentage of Players\":\"{:.2f}\"})\n",
    "\n"
   ]
  },
  {
   "cell_type": "markdown",
   "metadata": {},
   "source": [
    "\n",
    "## Purchasing Analysis (Gender)"
   ]
  },
  {
   "cell_type": "markdown",
   "metadata": {},
   "source": [
    "* Run basic calculations to obtain purchase count, avg. purchase price, avg. purchase total per person etc. by gender\n",
    "\n",
    "\n",
    "\n",
    "\n",
    "* Create a summary data frame to hold the results\n",
    "\n",
    "\n",
    "* Optional: give the displayed data cleaner formatting\n",
    "\n",
    "\n",
    "* Display the summary data frame"
   ]
  },
  {
   "cell_type": "code",
   "execution_count": 8,
   "metadata": {},
   "outputs": [
    {
     "data": {
      "text/html": [
       "<style type=\"text/css\">\n",
       "</style>\n",
       "<table id=\"T_10ed2_\">\n",
       "  <thead>\n",
       "    <tr>\n",
       "      <th class=\"blank level0\" >&nbsp;</th>\n",
       "      <th class=\"col_heading level0 col0\" >Purchase Count</th>\n",
       "      <th class=\"col_heading level0 col1\" >Average Purchase Price</th>\n",
       "      <th class=\"col_heading level0 col2\" >Average Purchase Value</th>\n",
       "      <th class=\"col_heading level0 col3\" >Avg Purchase Total per Person</th>\n",
       "    </tr>\n",
       "    <tr>\n",
       "      <th class=\"index_name level0\" >Gender</th>\n",
       "      <th class=\"blank col0\" >&nbsp;</th>\n",
       "      <th class=\"blank col1\" >&nbsp;</th>\n",
       "      <th class=\"blank col2\" >&nbsp;</th>\n",
       "      <th class=\"blank col3\" >&nbsp;</th>\n",
       "    </tr>\n",
       "  </thead>\n",
       "  <tbody>\n",
       "    <tr>\n",
       "      <th id=\"T_10ed2_level0_row0\" class=\"row_heading level0 row0\" >Female</th>\n",
       "      <td id=\"T_10ed2_row0_col0\" class=\"data row0 col0\" >113</td>\n",
       "      <td id=\"T_10ed2_row0_col1\" class=\"data row0 col1\" >$3.20</td>\n",
       "      <td id=\"T_10ed2_row0_col2\" class=\"data row0 col2\" >$361.94</td>\n",
       "      <td id=\"T_10ed2_row0_col3\" class=\"data row0 col3\" >$4.47</td>\n",
       "    </tr>\n",
       "    <tr>\n",
       "      <th id=\"T_10ed2_level0_row1\" class=\"row_heading level0 row1\" >Male</th>\n",
       "      <td id=\"T_10ed2_row1_col0\" class=\"data row1 col0\" >652</td>\n",
       "      <td id=\"T_10ed2_row1_col1\" class=\"data row1 col1\" >$3.02</td>\n",
       "      <td id=\"T_10ed2_row1_col2\" class=\"data row1 col2\" >$1,967.64</td>\n",
       "      <td id=\"T_10ed2_row1_col3\" class=\"data row1 col3\" >$4.07</td>\n",
       "    </tr>\n",
       "    <tr>\n",
       "      <th id=\"T_10ed2_level0_row2\" class=\"row_heading level0 row2\" >Other / Non-Disclosed</th>\n",
       "      <td id=\"T_10ed2_row2_col0\" class=\"data row2 col0\" >15</td>\n",
       "      <td id=\"T_10ed2_row2_col1\" class=\"data row2 col1\" >$3.35</td>\n",
       "      <td id=\"T_10ed2_row2_col2\" class=\"data row2 col2\" >$50.19</td>\n",
       "      <td id=\"T_10ed2_row2_col3\" class=\"data row2 col3\" >$4.56</td>\n",
       "    </tr>\n",
       "  </tbody>\n",
       "</table>\n"
      ],
      "text/plain": [
       "<pandas.io.formats.style.Styler at 0x19b20eb5310>"
      ]
     },
     "execution_count": 8,
     "metadata": {},
     "output_type": "execute_result"
    }
   ],
   "source": [
    "# purchase count by gender\n",
    "purchase_count = gender_data[\"Purchase ID\"].count()\n",
    "\n",
    "# avg purchase price per gender\n",
    "avg_purchase_price = gender_data[\"Price\"].mean()\n",
    "\n",
    "# avg purchase total by gender\n",
    "avg_purchase_total = gender_data[\"Price\"].sum()\n",
    "\n",
    "# avg purchase total by gender / purchase count by unique shoppers\n",
    "avg_purchase_per_person = avg_purchase_total/total_count_gender\n",
    "\n",
    "# create DataFrame\n",
    "gender_demos = pd.DataFrame({\"Purchase Count\": purchase_count, \n",
    "                             \"Average Purchase Price\": avg_purchase_price,\n",
    "                             \"Average Purchase Value\":avg_purchase_total,\n",
    "                             \"Avg Purchase Total per Person\": avg_purchase_per_person})\n",
    "\n",
    "# Gender index\n",
    "gender_demos.index.name = \"Gender\"\n",
    "\n",
    "# format\n",
    "gender_demos.style.format({\"Average Purchase Value\":\"${:,.2f}\",\n",
    "                                  \"Average Purchase Price\":\"${:,.2f}\",\n",
    "                                  \"Avg Purchase Total per Person\":\"${:,.2f}\"})"
   ]
  },
  {
   "cell_type": "markdown",
   "metadata": {},
   "source": [
    "## Age Demographics"
   ]
  },
  {
   "cell_type": "markdown",
   "metadata": {},
   "source": [
    "* Establish bins for ages\n",
    "\n",
    "\n",
    "* Categorize the existing players using the age bins. Hint: use pd.cut()\n",
    "\n",
    "\n",
    "* Calculate the numbers and percentages by age group\n",
    "\n",
    "\n",
    "* Create a summary data frame to hold the results\n",
    "\n",
    "\n",
    "* Optional: round the percentage column to two decimal points\n",
    "\n",
    "\n",
    "* Display Age Demographics Table\n"
   ]
  },
  {
   "cell_type": "code",
   "execution_count": 11,
   "metadata": {},
   "outputs": [
    {
     "data": {
      "text/html": [
       "<style type=\"text/css\">\n",
       "</style>\n",
       "<table id=\"T_731d5_\">\n",
       "  <thead>\n",
       "    <tr>\n",
       "      <th class=\"blank level0\" >&nbsp;</th>\n",
       "      <th class=\"col_heading level0 col0\" >Percentage of Players</th>\n",
       "      <th class=\"col_heading level0 col1\" >Total Count</th>\n",
       "    </tr>\n",
       "  </thead>\n",
       "  <tbody>\n",
       "    <tr>\n",
       "      <th id=\"T_731d5_level0_row0\" class=\"row_heading level0 row0\" ><10</th>\n",
       "      <td id=\"T_731d5_row0_col0\" class=\"data row0 col0\" >2.95</td>\n",
       "      <td id=\"T_731d5_row0_col1\" class=\"data row0 col1\" >17</td>\n",
       "    </tr>\n",
       "    <tr>\n",
       "      <th id=\"T_731d5_level0_row1\" class=\"row_heading level0 row1\" >10-14</th>\n",
       "      <td id=\"T_731d5_row1_col0\" class=\"data row1 col0\" >3.82</td>\n",
       "      <td id=\"T_731d5_row1_col1\" class=\"data row1 col1\" >22</td>\n",
       "    </tr>\n",
       "    <tr>\n",
       "      <th id=\"T_731d5_level0_row2\" class=\"row_heading level0 row2\" >15-19</th>\n",
       "      <td id=\"T_731d5_row2_col0\" class=\"data row2 col0\" >18.58</td>\n",
       "      <td id=\"T_731d5_row2_col1\" class=\"data row2 col1\" >107</td>\n",
       "    </tr>\n",
       "    <tr>\n",
       "      <th id=\"T_731d5_level0_row3\" class=\"row_heading level0 row3\" >20-24</th>\n",
       "      <td id=\"T_731d5_row3_col0\" class=\"data row3 col0\" >44.79</td>\n",
       "      <td id=\"T_731d5_row3_col1\" class=\"data row3 col1\" >258</td>\n",
       "    </tr>\n",
       "    <tr>\n",
       "      <th id=\"T_731d5_level0_row4\" class=\"row_heading level0 row4\" >25-29</th>\n",
       "      <td id=\"T_731d5_row4_col0\" class=\"data row4 col0\" >13.37</td>\n",
       "      <td id=\"T_731d5_row4_col1\" class=\"data row4 col1\" >77</td>\n",
       "    </tr>\n",
       "    <tr>\n",
       "      <th id=\"T_731d5_level0_row5\" class=\"row_heading level0 row5\" >30-34</th>\n",
       "      <td id=\"T_731d5_row5_col0\" class=\"data row5 col0\" >9.03</td>\n",
       "      <td id=\"T_731d5_row5_col1\" class=\"data row5 col1\" >52</td>\n",
       "    </tr>\n",
       "    <tr>\n",
       "      <th id=\"T_731d5_level0_row6\" class=\"row_heading level0 row6\" >35-39</th>\n",
       "      <td id=\"T_731d5_row6_col0\" class=\"data row6 col0\" >5.38</td>\n",
       "      <td id=\"T_731d5_row6_col1\" class=\"data row6 col1\" >31</td>\n",
       "    </tr>\n",
       "    <tr>\n",
       "      <th id=\"T_731d5_level0_row7\" class=\"row_heading level0 row7\" >40+</th>\n",
       "      <td id=\"T_731d5_row7_col0\" class=\"data row7 col0\" >2.08</td>\n",
       "      <td id=\"T_731d5_row7_col1\" class=\"data row7 col1\" >12</td>\n",
       "    </tr>\n",
       "  </tbody>\n",
       "</table>\n"
      ],
      "text/plain": [
       "<pandas.io.formats.style.Styler at 0x19b213a26d0>"
      ]
     },
     "execution_count": 11,
     "metadata": {},
     "output_type": "execute_result"
    }
   ],
   "source": [
    "# age bins for purchase_data \n",
    "age_bins = [0, 9.90, 14.90, 19.90, 24.90, 29.90, 34.90, 39.90, 99999]\n",
    "age_group_names = [\"<10\", \"10-14\", \"15-19\", \"20-24\", \"25-29\", \"30-34\", \"35-39\", \"40+\"]\n",
    "\n",
    "# sort age values in bins\n",
    "purchase_data[\"Age Group\"] = pd.cut(purchase_data[\"Age\"],age_bins, labels=age_group_names)\n",
    "purchase_data\n",
    "\n",
    "# create DataFrame with Age Group\n",
    "age_group_purchase_data = purchase_data.groupby(\"Age Group\")\n",
    "\n",
    "# count Total Players by age group\n",
    "total_count_age = age_group_purchase_data[\"SN\"].nunique()\n",
    "\n",
    "# percentages by age group\n",
    "percentage_by_age = (total_count_age/total_players) * 100\n",
    "\n",
    "# create DataFrame\n",
    "age_demographics = pd.DataFrame({\"Percentage of Players\": percentage_by_age, \"Total Count\": total_count_age})\n",
    "\n",
    "# format\n",
    "age_demographics.index.name = None\n",
    "age_demographics.style.format({\"Percentage of Players\":\"{:,.2f}\"})"
   ]
  },
  {
   "cell_type": "markdown",
   "metadata": {},
   "source": [
    "## Purchasing Analysis (Age)"
   ]
  },
  {
   "cell_type": "markdown",
   "metadata": {},
   "source": [
    "* Bin the purchase_data data frame by age\n",
    "\n",
    "\n",
    "* Run basic calculations to obtain purchase count, avg. purchase price, avg. purchase total per person etc. in the table below\n",
    "\n",
    "\n",
    "* Create a summary data frame to hold the results\n",
    "\n",
    "\n",
    "* Optional: give the displayed data cleaner formatting\n",
    "\n",
    "\n",
    "* Display the summary data frame"
   ]
  },
  {
   "cell_type": "code",
   "execution_count": 13,
   "metadata": {},
   "outputs": [
    {
     "data": {
      "text/html": [
       "<style type=\"text/css\">\n",
       "</style>\n",
       "<table id=\"T_9d375_\">\n",
       "  <thead>\n",
       "    <tr>\n",
       "      <th class=\"blank level0\" >&nbsp;</th>\n",
       "      <th class=\"col_heading level0 col0\" >Purchase Count</th>\n",
       "      <th class=\"col_heading level0 col1\" >Average Purchase Price</th>\n",
       "      <th class=\"col_heading level0 col2\" >Total Purchase Value</th>\n",
       "      <th class=\"col_heading level0 col3\" >Average Purchase Total per Person</th>\n",
       "    </tr>\n",
       "  </thead>\n",
       "  <tbody>\n",
       "    <tr>\n",
       "      <th id=\"T_9d375_level0_row0\" class=\"row_heading level0 row0\" ><10</th>\n",
       "      <td id=\"T_9d375_row0_col0\" class=\"data row0 col0\" >23</td>\n",
       "      <td id=\"T_9d375_row0_col1\" class=\"data row0 col1\" >$3.35</td>\n",
       "      <td id=\"T_9d375_row0_col2\" class=\"data row0 col2\" >$77.13</td>\n",
       "      <td id=\"T_9d375_row0_col3\" class=\"data row0 col3\" >$4.54</td>\n",
       "    </tr>\n",
       "    <tr>\n",
       "      <th id=\"T_9d375_level0_row1\" class=\"row_heading level0 row1\" >10-14</th>\n",
       "      <td id=\"T_9d375_row1_col0\" class=\"data row1 col0\" >28</td>\n",
       "      <td id=\"T_9d375_row1_col1\" class=\"data row1 col1\" >$2.96</td>\n",
       "      <td id=\"T_9d375_row1_col2\" class=\"data row1 col2\" >$82.78</td>\n",
       "      <td id=\"T_9d375_row1_col3\" class=\"data row1 col3\" >$3.76</td>\n",
       "    </tr>\n",
       "    <tr>\n",
       "      <th id=\"T_9d375_level0_row2\" class=\"row_heading level0 row2\" >15-19</th>\n",
       "      <td id=\"T_9d375_row2_col0\" class=\"data row2 col0\" >136</td>\n",
       "      <td id=\"T_9d375_row2_col1\" class=\"data row2 col1\" >$3.04</td>\n",
       "      <td id=\"T_9d375_row2_col2\" class=\"data row2 col2\" >$412.89</td>\n",
       "      <td id=\"T_9d375_row2_col3\" class=\"data row2 col3\" >$3.86</td>\n",
       "    </tr>\n",
       "    <tr>\n",
       "      <th id=\"T_9d375_level0_row3\" class=\"row_heading level0 row3\" >20-24</th>\n",
       "      <td id=\"T_9d375_row3_col0\" class=\"data row3 col0\" >365</td>\n",
       "      <td id=\"T_9d375_row3_col1\" class=\"data row3 col1\" >$3.05</td>\n",
       "      <td id=\"T_9d375_row3_col2\" class=\"data row3 col2\" >$1,114.06</td>\n",
       "      <td id=\"T_9d375_row3_col3\" class=\"data row3 col3\" >$4.32</td>\n",
       "    </tr>\n",
       "    <tr>\n",
       "      <th id=\"T_9d375_level0_row4\" class=\"row_heading level0 row4\" >25-29</th>\n",
       "      <td id=\"T_9d375_row4_col0\" class=\"data row4 col0\" >101</td>\n",
       "      <td id=\"T_9d375_row4_col1\" class=\"data row4 col1\" >$2.90</td>\n",
       "      <td id=\"T_9d375_row4_col2\" class=\"data row4 col2\" >$293.00</td>\n",
       "      <td id=\"T_9d375_row4_col3\" class=\"data row4 col3\" >$3.81</td>\n",
       "    </tr>\n",
       "    <tr>\n",
       "      <th id=\"T_9d375_level0_row5\" class=\"row_heading level0 row5\" >30-34</th>\n",
       "      <td id=\"T_9d375_row5_col0\" class=\"data row5 col0\" >73</td>\n",
       "      <td id=\"T_9d375_row5_col1\" class=\"data row5 col1\" >$2.93</td>\n",
       "      <td id=\"T_9d375_row5_col2\" class=\"data row5 col2\" >$214.00</td>\n",
       "      <td id=\"T_9d375_row5_col3\" class=\"data row5 col3\" >$4.12</td>\n",
       "    </tr>\n",
       "    <tr>\n",
       "      <th id=\"T_9d375_level0_row6\" class=\"row_heading level0 row6\" >35-39</th>\n",
       "      <td id=\"T_9d375_row6_col0\" class=\"data row6 col0\" >41</td>\n",
       "      <td id=\"T_9d375_row6_col1\" class=\"data row6 col1\" >$3.60</td>\n",
       "      <td id=\"T_9d375_row6_col2\" class=\"data row6 col2\" >$147.67</td>\n",
       "      <td id=\"T_9d375_row6_col3\" class=\"data row6 col3\" >$4.76</td>\n",
       "    </tr>\n",
       "    <tr>\n",
       "      <th id=\"T_9d375_level0_row7\" class=\"row_heading level0 row7\" >40+</th>\n",
       "      <td id=\"T_9d375_row7_col0\" class=\"data row7 col0\" >13</td>\n",
       "      <td id=\"T_9d375_row7_col1\" class=\"data row7 col1\" >$2.94</td>\n",
       "      <td id=\"T_9d375_row7_col2\" class=\"data row7 col2\" >$38.24</td>\n",
       "      <td id=\"T_9d375_row7_col3\" class=\"data row7 col3\" >$3.19</td>\n",
       "    </tr>\n",
       "  </tbody>\n",
       "</table>\n"
      ],
      "text/plain": [
       "<pandas.io.formats.style.Styler at 0x19b213a2790>"
      ]
     },
     "execution_count": 13,
     "metadata": {},
     "output_type": "execute_result"
    }
   ],
   "source": [
    "# Count purchases by age group\n",
    "purchase_count_age = age_group_purchase_data[\"Purchase ID\"].count()\n",
    "\n",
    "# avg purchase price by age group \n",
    "avg_purchase_price_age = age_group_purchase_data[\"Price\"].mean()\n",
    "\n",
    "# Total Purchase Value by age group \n",
    "total_purchase_value = age_group_purchase_data[\"Price\"].sum()\n",
    "\n",
    "# avg purchase per person in age group \n",
    "avg_purchase_per_person_age = total_purchase_value/total_count_age\n",
    "\n",
    "# Create DataFrame\n",
    "age_demographics = pd.DataFrame({\"Purchase Count\": purchase_count_age,\n",
    "                                 \"Average Purchase Price\": avg_purchase_price_age,\n",
    "                                 \"Total Purchase Value\":total_purchase_value,\n",
    "                                 \"Average Purchase Total per Person\": avg_purchase_per_person_age})\n",
    "\n",
    "# Format\n",
    "age_demographics.index.name = None\n",
    "age_demographics.style.format({\"Average Purchase Price\":\"${:,.2f}\",\n",
    "                               \"Total Purchase Value\":\"${:,.2f}\",\n",
    "                               \"Average Purchase Total per Person\":\"${:,.2f}\"})\n"
   ]
  },
  {
   "cell_type": "markdown",
   "metadata": {},
   "source": [
    "## Top Spenders"
   ]
  },
  {
   "cell_type": "markdown",
   "metadata": {},
   "source": [
    "* Run basic calculations to obtain the results in the table below\n",
    "\n",
    "\n",
    "* Create a summary data frame to hold the results\n",
    "\n",
    "\n",
    "* Sort the total purchase value column in descending order\n",
    "\n",
    "\n",
    "* Optional: give the displayed data cleaner formatting\n",
    "\n",
    "\n",
    "* Display a preview of the summary data frame\n",
    "\n"
   ]
  },
  {
   "cell_type": "code",
   "execution_count": 14,
   "metadata": {},
   "outputs": [
    {
     "data": {
      "text/html": [
       "<style type=\"text/css\">\n",
       "</style>\n",
       "<table id=\"T_b8671_\">\n",
       "  <thead>\n",
       "    <tr>\n",
       "      <th class=\"blank level0\" >&nbsp;</th>\n",
       "      <th class=\"col_heading level0 col0\" >Purchase Count</th>\n",
       "      <th class=\"col_heading level0 col1\" >Average Purchase Price</th>\n",
       "      <th class=\"col_heading level0 col2\" >Total Purchase Value</th>\n",
       "    </tr>\n",
       "    <tr>\n",
       "      <th class=\"index_name level0\" >SN</th>\n",
       "      <th class=\"blank col0\" >&nbsp;</th>\n",
       "      <th class=\"blank col1\" >&nbsp;</th>\n",
       "      <th class=\"blank col2\" >&nbsp;</th>\n",
       "    </tr>\n",
       "  </thead>\n",
       "  <tbody>\n",
       "    <tr>\n",
       "      <th id=\"T_b8671_level0_row0\" class=\"row_heading level0 row0\" >Lisosia93</th>\n",
       "      <td id=\"T_b8671_row0_col0\" class=\"data row0 col0\" >5</td>\n",
       "      <td id=\"T_b8671_row0_col1\" class=\"data row0 col1\" >$3.79</td>\n",
       "      <td id=\"T_b8671_row0_col2\" class=\"data row0 col2\" >$18.96</td>\n",
       "    </tr>\n",
       "    <tr>\n",
       "      <th id=\"T_b8671_level0_row1\" class=\"row_heading level0 row1\" >Idastidru52</th>\n",
       "      <td id=\"T_b8671_row1_col0\" class=\"data row1 col0\" >4</td>\n",
       "      <td id=\"T_b8671_row1_col1\" class=\"data row1 col1\" >$3.86</td>\n",
       "      <td id=\"T_b8671_row1_col2\" class=\"data row1 col2\" >$15.45</td>\n",
       "    </tr>\n",
       "    <tr>\n",
       "      <th id=\"T_b8671_level0_row2\" class=\"row_heading level0 row2\" >Chamjask73</th>\n",
       "      <td id=\"T_b8671_row2_col0\" class=\"data row2 col0\" >3</td>\n",
       "      <td id=\"T_b8671_row2_col1\" class=\"data row2 col1\" >$4.61</td>\n",
       "      <td id=\"T_b8671_row2_col2\" class=\"data row2 col2\" >$13.83</td>\n",
       "    </tr>\n",
       "    <tr>\n",
       "      <th id=\"T_b8671_level0_row3\" class=\"row_heading level0 row3\" >Iral74</th>\n",
       "      <td id=\"T_b8671_row3_col0\" class=\"data row3 col0\" >4</td>\n",
       "      <td id=\"T_b8671_row3_col1\" class=\"data row3 col1\" >$3.41</td>\n",
       "      <td id=\"T_b8671_row3_col2\" class=\"data row3 col2\" >$13.62</td>\n",
       "    </tr>\n",
       "    <tr>\n",
       "      <th id=\"T_b8671_level0_row4\" class=\"row_heading level0 row4\" >Iskadarya95</th>\n",
       "      <td id=\"T_b8671_row4_col0\" class=\"data row4 col0\" >3</td>\n",
       "      <td id=\"T_b8671_row4_col1\" class=\"data row4 col1\" >$4.37</td>\n",
       "      <td id=\"T_b8671_row4_col2\" class=\"data row4 col2\" >$13.10</td>\n",
       "    </tr>\n",
       "  </tbody>\n",
       "</table>\n"
      ],
      "text/plain": [
       "<pandas.io.formats.style.Styler at 0x19b214e1280>"
      ]
     },
     "execution_count": 14,
     "metadata": {},
     "output_type": "execute_result"
    }
   ],
   "source": [
    "# group purchase data by screen names\n",
    "spender_stats = purchase_data.groupby(\"SN\")\n",
    "\n",
    "# count total purchases by name\n",
    "purchase_count_spender = spender_stats[\"Purchase ID\"].count()\n",
    "\n",
    "# avg purchase by name \n",
    "avg_purchase_price_spender = spender_stats[\"Price\"].mean()\n",
    "\n",
    "# purchase total \n",
    "purchase_total_spender = spender_stats[\"Price\"].sum()\n",
    "\n",
    "# Create data frame with obtained values\n",
    "top_spenders = pd.DataFrame({\"Purchase Count\": purchase_count_spender,\n",
    "                             \"Average Purchase Price\": avg_purchase_price_spender,\n",
    "                             \"Total Purchase Value\":purchase_total_spender})\n",
    "\n",
    "# Sort in descending order to obtain top 5 spender names \n",
    "formatted_spenders = top_spenders.sort_values([\"Total Purchase Value\"], ascending=False).head()\n",
    "\n",
    "# Format with currency style\n",
    "formatted_spenders.style.format({\"Average Purchase Total\":\"${:,.2f}\",\n",
    "                                 \"Average Purchase Price\":\"${:,.2f}\", \n",
    "                                 \"Total Purchase Value\":\"${:,.2f}\"})"
   ]
  },
  {
   "cell_type": "markdown",
   "metadata": {},
   "source": [
    "## Most Popular Items"
   ]
  },
  {
   "cell_type": "markdown",
   "metadata": {},
   "source": [
    "* Retrieve the Item ID, Item Name, and Item Price columns\n",
    "\n",
    "\n",
    "* Group by Item ID and Item Name. Perform calculations to obtain purchase count, average item price, and total purchase value\n",
    "\n",
    "\n",
    "* Create a summary data frame to hold the results\n",
    "\n",
    "\n",
    "* Sort the purchase count column in descending order\n",
    "\n",
    "\n",
    "* Optional: give the displayed data cleaner formatting\n",
    "\n",
    "\n",
    "* Display a preview of the summary data frame\n",
    "\n"
   ]
  },
  {
   "cell_type": "code",
   "execution_count": 15,
   "metadata": {},
   "outputs": [
    {
     "data": {
      "text/html": [
       "<style type=\"text/css\">\n",
       "</style>\n",
       "<table id=\"T_44ee4_\">\n",
       "  <thead>\n",
       "    <tr>\n",
       "      <th class=\"blank\" >&nbsp;</th>\n",
       "      <th class=\"blank level0\" >&nbsp;</th>\n",
       "      <th class=\"col_heading level0 col0\" >Purchase Count</th>\n",
       "      <th class=\"col_heading level0 col1\" >Item Price</th>\n",
       "      <th class=\"col_heading level0 col2\" >Total Purchase Value</th>\n",
       "    </tr>\n",
       "    <tr>\n",
       "      <th class=\"index_name level0\" >Item ID</th>\n",
       "      <th class=\"index_name level1\" >Item Name</th>\n",
       "      <th class=\"blank col0\" >&nbsp;</th>\n",
       "      <th class=\"blank col1\" >&nbsp;</th>\n",
       "      <th class=\"blank col2\" >&nbsp;</th>\n",
       "    </tr>\n",
       "  </thead>\n",
       "  <tbody>\n",
       "    <tr>\n",
       "      <th id=\"T_44ee4_level0_row0\" class=\"row_heading level0 row0\" >92</th>\n",
       "      <th id=\"T_44ee4_level1_row0\" class=\"row_heading level1 row0\" >Final Critic</th>\n",
       "      <td id=\"T_44ee4_row0_col0\" class=\"data row0 col0\" >13</td>\n",
       "      <td id=\"T_44ee4_row0_col1\" class=\"data row0 col1\" >$4.61</td>\n",
       "      <td id=\"T_44ee4_row0_col2\" class=\"data row0 col2\" >$59.99</td>\n",
       "    </tr>\n",
       "    <tr>\n",
       "      <th id=\"T_44ee4_level0_row1\" class=\"row_heading level0 row1\" >178</th>\n",
       "      <th id=\"T_44ee4_level1_row1\" class=\"row_heading level1 row1\" >Oathbreaker, Last Hope of the Breaking Storm</th>\n",
       "      <td id=\"T_44ee4_row1_col0\" class=\"data row1 col0\" >12</td>\n",
       "      <td id=\"T_44ee4_row1_col1\" class=\"data row1 col1\" >$4.23</td>\n",
       "      <td id=\"T_44ee4_row1_col2\" class=\"data row1 col2\" >$50.76</td>\n",
       "    </tr>\n",
       "    <tr>\n",
       "      <th id=\"T_44ee4_level0_row2\" class=\"row_heading level0 row2\" >145</th>\n",
       "      <th id=\"T_44ee4_level1_row2\" class=\"row_heading level1 row2\" >Fiery Glass Crusader</th>\n",
       "      <td id=\"T_44ee4_row2_col0\" class=\"data row2 col0\" >9</td>\n",
       "      <td id=\"T_44ee4_row2_col1\" class=\"data row2 col1\" >$4.58</td>\n",
       "      <td id=\"T_44ee4_row2_col2\" class=\"data row2 col2\" >$41.22</td>\n",
       "    </tr>\n",
       "    <tr>\n",
       "      <th id=\"T_44ee4_level0_row3\" class=\"row_heading level0 row3\" >132</th>\n",
       "      <th id=\"T_44ee4_level1_row3\" class=\"row_heading level1 row3\" >Persuasion</th>\n",
       "      <td id=\"T_44ee4_row3_col0\" class=\"data row3 col0\" >9</td>\n",
       "      <td id=\"T_44ee4_row3_col1\" class=\"data row3 col1\" >$3.22</td>\n",
       "      <td id=\"T_44ee4_row3_col2\" class=\"data row3 col2\" >$28.99</td>\n",
       "    </tr>\n",
       "    <tr>\n",
       "      <th id=\"T_44ee4_level0_row4\" class=\"row_heading level0 row4\" >108</th>\n",
       "      <th id=\"T_44ee4_level1_row4\" class=\"row_heading level1 row4\" >Extraction, Quickblade Of Trembling Hands</th>\n",
       "      <td id=\"T_44ee4_row4_col0\" class=\"data row4 col0\" >9</td>\n",
       "      <td id=\"T_44ee4_row4_col1\" class=\"data row4 col1\" >$3.53</td>\n",
       "      <td id=\"T_44ee4_row4_col2\" class=\"data row4 col2\" >$31.77</td>\n",
       "    </tr>\n",
       "  </tbody>\n",
       "</table>\n"
      ],
      "text/plain": [
       "<pandas.io.formats.style.Styler at 0x19b213befa0>"
      ]
     },
     "execution_count": 15,
     "metadata": {},
     "output_type": "execute_result"
    }
   ],
   "source": [
    "# create DataFrame with items related information \n",
    "items = purchase_data[[\"Item ID\", \"Item Name\", \"Price\"]]\n",
    "\n",
    "# group item data by item id and item name \n",
    "item_stats = items.groupby([\"Item ID\",\"Item Name\"])\n",
    "\n",
    "# count the number of times an item was purchased \n",
    "purchase_count_item = item_stats[\"Price\"].count()\n",
    "\n",
    "# purchase value per item \n",
    "purchase_value = (item_stats[\"Price\"].sum()) \n",
    "\n",
    "# individual item price\n",
    "item_price = purchase_value/purchase_count_item\n",
    "\n",
    "# Create DataFrame\n",
    "most_popular_items = pd.DataFrame({\"Purchase Count\": purchase_count_item, \n",
    "                                   \"Item Price\": item_price,\n",
    "                                   \"Total Purchase Value\":purchase_value})\n",
    "\n",
    "# sort descending for top spender names, provide top 5 item names\n",
    "popular_formatted = most_popular_items.sort_values([\"Purchase Count\"], ascending=False).head()\n",
    "\n",
    "# Format\n",
    "popular_formatted.style.format({\"Item Price\":\"${:,.2f}\",\n",
    "                                \"Total Purchase Value\":\"${:,.2f}\"})"
   ]
  },
  {
   "cell_type": "markdown",
   "metadata": {},
   "source": [
    "## Most Profitable Items"
   ]
  },
  {
   "cell_type": "markdown",
   "metadata": {},
   "source": [
    "* Sort the above table by total purchase value in descending order\n",
    "\n",
    "\n",
    "* Optional: give the displayed data cleaner formatting\n",
    "\n",
    "\n",
    "* Display a preview of the data frame\n",
    "\n"
   ]
  },
  {
   "cell_type": "code",
   "execution_count": 16,
   "metadata": {
    "scrolled": true
   },
   "outputs": [
    {
     "data": {
      "text/html": [
       "<style type=\"text/css\">\n",
       "</style>\n",
       "<table id=\"T_917b1_\">\n",
       "  <thead>\n",
       "    <tr>\n",
       "      <th class=\"blank\" >&nbsp;</th>\n",
       "      <th class=\"blank level0\" >&nbsp;</th>\n",
       "      <th class=\"col_heading level0 col0\" >Purchase Count</th>\n",
       "      <th class=\"col_heading level0 col1\" >Item Price</th>\n",
       "      <th class=\"col_heading level0 col2\" >Total Purchase Value</th>\n",
       "    </tr>\n",
       "    <tr>\n",
       "      <th class=\"index_name level0\" >Item ID</th>\n",
       "      <th class=\"index_name level1\" >Item Name</th>\n",
       "      <th class=\"blank col0\" >&nbsp;</th>\n",
       "      <th class=\"blank col1\" >&nbsp;</th>\n",
       "      <th class=\"blank col2\" >&nbsp;</th>\n",
       "    </tr>\n",
       "  </thead>\n",
       "  <tbody>\n",
       "    <tr>\n",
       "      <th id=\"T_917b1_level0_row0\" class=\"row_heading level0 row0\" >92</th>\n",
       "      <th id=\"T_917b1_level1_row0\" class=\"row_heading level1 row0\" >Final Critic</th>\n",
       "      <td id=\"T_917b1_row0_col0\" class=\"data row0 col0\" >13</td>\n",
       "      <td id=\"T_917b1_row0_col1\" class=\"data row0 col1\" >$4.61</td>\n",
       "      <td id=\"T_917b1_row0_col2\" class=\"data row0 col2\" >$59.99</td>\n",
       "    </tr>\n",
       "    <tr>\n",
       "      <th id=\"T_917b1_level0_row1\" class=\"row_heading level0 row1\" >178</th>\n",
       "      <th id=\"T_917b1_level1_row1\" class=\"row_heading level1 row1\" >Oathbreaker, Last Hope of the Breaking Storm</th>\n",
       "      <td id=\"T_917b1_row1_col0\" class=\"data row1 col0\" >12</td>\n",
       "      <td id=\"T_917b1_row1_col1\" class=\"data row1 col1\" >$4.23</td>\n",
       "      <td id=\"T_917b1_row1_col2\" class=\"data row1 col2\" >$50.76</td>\n",
       "    </tr>\n",
       "    <tr>\n",
       "      <th id=\"T_917b1_level0_row2\" class=\"row_heading level0 row2\" >82</th>\n",
       "      <th id=\"T_917b1_level1_row2\" class=\"row_heading level1 row2\" >Nirvana</th>\n",
       "      <td id=\"T_917b1_row2_col0\" class=\"data row2 col0\" >9</td>\n",
       "      <td id=\"T_917b1_row2_col1\" class=\"data row2 col1\" >$4.90</td>\n",
       "      <td id=\"T_917b1_row2_col2\" class=\"data row2 col2\" >$44.10</td>\n",
       "    </tr>\n",
       "    <tr>\n",
       "      <th id=\"T_917b1_level0_row3\" class=\"row_heading level0 row3\" >145</th>\n",
       "      <th id=\"T_917b1_level1_row3\" class=\"row_heading level1 row3\" >Fiery Glass Crusader</th>\n",
       "      <td id=\"T_917b1_row3_col0\" class=\"data row3 col0\" >9</td>\n",
       "      <td id=\"T_917b1_row3_col1\" class=\"data row3 col1\" >$4.58</td>\n",
       "      <td id=\"T_917b1_row3_col2\" class=\"data row3 col2\" >$41.22</td>\n",
       "    </tr>\n",
       "    <tr>\n",
       "      <th id=\"T_917b1_level0_row4\" class=\"row_heading level0 row4\" >103</th>\n",
       "      <th id=\"T_917b1_level1_row4\" class=\"row_heading level1 row4\" >Singed Scalpel</th>\n",
       "      <td id=\"T_917b1_row4_col0\" class=\"data row4 col0\" >8</td>\n",
       "      <td id=\"T_917b1_row4_col1\" class=\"data row4 col1\" >$4.35</td>\n",
       "      <td id=\"T_917b1_row4_col2\" class=\"data row4 col2\" >$34.80</td>\n",
       "    </tr>\n",
       "  </tbody>\n",
       "</table>\n"
      ],
      "text/plain": [
       "<pandas.io.formats.style.Styler at 0x19b21708280>"
      ]
     },
     "execution_count": 16,
     "metadata": {},
     "output_type": "execute_result"
    }
   ],
   "source": [
    "# change sort in most_popular_items DataFrame to find highest total purchase value\n",
    "popular_formatted = most_popular_items.sort_values([\"Total Purchase Value\"],\n",
    "                                                   ascending=False).head()\n",
    "# Format\n",
    "popular_formatted.style.format({\"Item Price\":\"${:,.2f}\",\n",
    "                                \"Total Purchase Value\":\"${:,.2f}\"})"
   ]
  },
  {
   "cell_type": "markdown",
   "metadata": {},
   "source": [
    "Trend Analysis\n",
    "The 20-24 age demographic represents the largest perecentage of players and total purchase value.\n",
    "\n",
    "The age demographic with the highest average purchase is 35-39 (at $4.76) but only makes up 5.38 percent of players.\n",
    "\n",
    "The overwhelming majority of the players are male (84 percent). \n",
    "\n"
   ]
  }
 ],
 "metadata": {
  "anaconda-cloud": {},
  "kernel_info": {
   "name": "python3"
  },
  "kernelspec": {
   "display_name": "Python 3 (ipykernel)",
   "language": "python",
   "name": "python3"
  },
  "language_info": {
   "codemirror_mode": {
    "name": "ipython",
    "version": 3
   },
   "file_extension": ".py",
   "mimetype": "text/x-python",
   "name": "python",
   "nbconvert_exporter": "python",
   "pygments_lexer": "ipython3",
   "version": "3.9.7"
  },
  "latex_envs": {
   "LaTeX_envs_menu_present": true,
   "autoclose": false,
   "autocomplete": true,
   "bibliofile": "biblio.bib",
   "cite_by": "apalike",
   "current_citInitial": 1,
   "eqLabelWithNumbers": true,
   "eqNumInitial": 1,
   "hotkeys": {
    "equation": "Ctrl-E",
    "itemize": "Ctrl-I"
   },
   "labels_anchors": false,
   "latex_user_defs": false,
   "report_style_numbering": false,
   "user_envs_cfg": false
  },
  "nteract": {
   "version": "0.2.0"
  }
 },
 "nbformat": 4,
 "nbformat_minor": 2
}
